{
 "cells": [
  {
   "cell_type": "code",
   "execution_count": 1,
   "metadata": {},
   "outputs": [],
   "source": [
    "import numpy as np\n",
    "import pandas as pd\n",
    "import fastFM as fm\n",
    "from scipy import sparse\n",
    "from sklearn.model_selection import train_test_split\n",
    "from sklearn.metrics import accuracy_score, roc_auc_score"
   ]
  },
  {
   "cell_type": "code",
   "execution_count": 2,
   "metadata": {},
   "outputs": [],
   "source": [
    "import util"
   ]
  },
  {
   "cell_type": "code",
   "execution_count": 3,
   "metadata": {},
   "outputs": [],
   "source": [
    "df_train = pd.read_csv('../data/ml-100k/ua.base', header=None, names=['uid', 'sid', 'score', 'ts'], sep='\\t')"
   ]
  },
  {
   "cell_type": "code",
   "execution_count": 4,
   "metadata": {},
   "outputs": [],
   "source": [
    "df_test = pd.read_csv('../data/ml-100k/ua.test', header=None, names=['uid', 'sid', 'score', 'ts'], sep='\\t')"
   ]
  },
  {
   "cell_type": "code",
   "execution_count": 5,
   "metadata": {},
   "outputs": [],
   "source": [
    "df = df_train"
   ]
  },
  {
   "cell_type": "code",
   "execution_count": 6,
   "metadata": {},
   "outputs": [
    {
     "data": {
      "text/html": [
       "<div>\n",
       "<style scoped>\n",
       "    .dataframe tbody tr th:only-of-type {\n",
       "        vertical-align: middle;\n",
       "    }\n",
       "\n",
       "    .dataframe tbody tr th {\n",
       "        vertical-align: top;\n",
       "    }\n",
       "\n",
       "    .dataframe thead th {\n",
       "        text-align: right;\n",
       "    }\n",
       "</style>\n",
       "<table border=\"1\" class=\"dataframe\">\n",
       "  <thead>\n",
       "    <tr style=\"text-align: right;\">\n",
       "      <th></th>\n",
       "      <th>uid</th>\n",
       "      <th>sid</th>\n",
       "      <th>score</th>\n",
       "      <th>ts</th>\n",
       "    </tr>\n",
       "  </thead>\n",
       "  <tbody>\n",
       "    <tr>\n",
       "      <th>0</th>\n",
       "      <td>1</td>\n",
       "      <td>1</td>\n",
       "      <td>5</td>\n",
       "      <td>874965758</td>\n",
       "    </tr>\n",
       "    <tr>\n",
       "      <th>1</th>\n",
       "      <td>1</td>\n",
       "      <td>2</td>\n",
       "      <td>3</td>\n",
       "      <td>876893171</td>\n",
       "    </tr>\n",
       "    <tr>\n",
       "      <th>2</th>\n",
       "      <td>1</td>\n",
       "      <td>3</td>\n",
       "      <td>4</td>\n",
       "      <td>878542960</td>\n",
       "    </tr>\n",
       "    <tr>\n",
       "      <th>3</th>\n",
       "      <td>1</td>\n",
       "      <td>4</td>\n",
       "      <td>3</td>\n",
       "      <td>876893119</td>\n",
       "    </tr>\n",
       "    <tr>\n",
       "      <th>4</th>\n",
       "      <td>1</td>\n",
       "      <td>5</td>\n",
       "      <td>3</td>\n",
       "      <td>889751712</td>\n",
       "    </tr>\n",
       "  </tbody>\n",
       "</table>\n",
       "</div>"
      ],
      "text/plain": [
       "   uid  sid  score         ts\n",
       "0    1    1      5  874965758\n",
       "1    1    2      3  876893171\n",
       "2    1    3      4  878542960\n",
       "3    1    4      3  876893119\n",
       "4    1    5      3  889751712"
      ]
     },
     "execution_count": 6,
     "metadata": {},
     "output_type": "execute_result"
    }
   ],
   "source": [
    "df.head()"
   ]
  },
  {
   "cell_type": "code",
   "execution_count": 7,
   "metadata": {},
   "outputs": [
    {
     "name": "stdout",
     "output_type": "stream",
     "text": [
      "   90570 ../data/ml-100k/ua.base\r\n"
     ]
    }
   ],
   "source": [
    "!wc -l ../data/ml-100k/ua.base"
   ]
  },
  {
   "cell_type": "code",
   "execution_count": 8,
   "metadata": {},
   "outputs": [
    {
     "name": "stdout",
     "output_type": "stream",
     "text": [
      "    9430 ../data/ml-100k/ua.test\r\n"
     ]
    }
   ],
   "source": [
    "!wc -l ../data/ml-100k/ua.test"
   ]
  },
  {
   "cell_type": "code",
   "execution_count": 9,
   "metadata": {},
   "outputs": [],
   "source": [
    "import imp\n",
    "util = imp.reload(util)\n",
    "X_base, Y_base = util.load_dataset_mf('../data/ml-100k/ua.base', user_cnt=943, item_cnt=1682, entry_cnt=90570)\n",
    "X_test, Y_test = util.load_dataset_mf('../data/ml-100k/ua.test', user_cnt=943, item_cnt=1682, entry_cnt=9430)"
   ]
  },
  {
   "cell_type": "code",
   "execution_count": 10,
   "metadata": {},
   "outputs": [],
   "source": [
    "### classification"
   ]
  },
  {
   "cell_type": "code",
   "execution_count": 11,
   "metadata": {},
   "outputs": [],
   "source": [
    "y_base = np.ones_like(Y_base)\n",
    "y_test = np.ones_like(Y_test)\n",
    "y_base[Y_base < np.mean(Y_base)] = 0\n",
    "y_base[Y_base >= np.mean(Y_base)] = 1\n",
    "y_test[Y_test < np.mean(Y_test)] = 0\n",
    "y_test[Y_test >= np.mean(Y_base)] = 1\n",
    "X_train, X_dev, y_train, y_dev = train_test_split(X_base.tocsr(), y_base)"
   ]
  },
  {
   "cell_type": "code",
   "execution_count": 12,
   "metadata": {},
   "outputs": [
    {
     "name": "stdout",
     "output_type": "stream",
     "text": [
      "threshold 3.5238268\n",
      "0.550708849205765\n",
      "0.5519586627213708\n",
      "0.5799575821845175\n"
     ]
    }
   ],
   "source": [
    "# check balance\n",
    "print('threshold', np.mean(Y_base))\n",
    "print(np.count_nonzero(y_train)/len(y_train))\n",
    "print(np.count_nonzero(y_dev)/len(y_dev))\n",
    "print(np.count_nonzero(y_test)/len(y_test))\n",
    "y_train[y_train == 0] = -1\n",
    "y_dev[y_dev == 0] = -1\n",
    "y_test[y_test == 0] = -1"
   ]
  },
  {
   "cell_type": "code",
   "execution_count": 13,
   "metadata": {
    "scrolled": true
   },
   "outputs": [
    {
     "name": "stdout",
     "output_type": "stream",
     "text": [
      "(67927, 2625)\n",
      "(67927,)\n",
      "(9430, 2625)\n",
      "(9430,)\n"
     ]
    }
   ],
   "source": [
    "print(X_train.shape)\n",
    "print(y_train.shape)\n",
    "print(X_test.shape)\n",
    "print(Y_test.shape)"
   ]
  },
  {
   "cell_type": "code",
   "execution_count": 17,
   "metadata": {},
   "outputs": [
    {
     "name": "stdout",
     "output_type": "stream",
     "text": [
      "acc: 0.6712205750290753\n",
      "auc: 0.7545273257882432\n",
      "acc: 0.6625447158062094\n",
      "auc: 0.7378575466111048\n",
      "acc: 0.6498409331919406\n",
      "auc: 0.7017339336460643\n"
     ]
    }
   ],
   "source": [
    "from fastFM import sgd\n",
    "fm = sgd.FMClassification(n_iter=100000, init_stdev=0.1, l2_reg_w=0.1,\n",
    "                          l2_reg_V=0.1, rank=5, step_size=0.01)\n",
    "fm.fit(X_train, y_train)\n",
    "util.evaluate_classification(fm, X_train, y_train)\n",
    "util.evaluate_classification(fm, X_dev, y_dev)\n",
    "util.evaluate_classification(fm, X_test, y_test)"
   ]
  },
  {
   "cell_type": "code",
   "execution_count": null,
   "metadata": {},
   "outputs": [],
   "source": [
    "### regression"
   ]
  },
  {
   "cell_type": "code",
   "execution_count": 37,
   "metadata": {},
   "outputs": [],
   "source": [
    "X_train, X_dev, y_train, y_dev = train_test_split(X_base, Y_base)\n",
    "y_test = Y_test"
   ]
  },
  {
   "cell_type": "code",
   "execution_count": 27,
   "metadata": {},
   "outputs": [
    {
     "name": "stdout",
     "output_type": "stream",
     "text": [
      "mse: 0.5177298742770168\n",
      "mse: 1.0660045369488942\n",
      "mse: 1.1919620954550223\n"
     ]
    }
   ],
   "source": [
    "from fastFM import als\n",
    "fm = als.FMRegression(n_iter=1000, init_stdev=0.1, rank=5, l2_reg_w=0.1, l2_reg_V=0.5)\n",
    "fm.fit(X_train, y_train)"
   ]
  },
  {
   "cell_type": "code",
   "execution_count": 30,
   "metadata": {},
   "outputs": [
    {
     "name": "stdout",
     "output_type": "stream",
     "text": [
      "mse: 0.5177298742770168\n",
      "mse: 1.0660045369488942\n",
      "mse: 1.1919620954550223\n"
     ]
    }
   ],
   "source": [
    "ytr = util.evaluate_regression(fm, X_train, y_train)\n",
    "yde = util.evaluate_regression(fm, X_dev, y_dev)\n",
    "yte = util.evaluate_regression(fm, X_test, Y_test)"
   ]
  },
  {
   "cell_type": "code",
   "execution_count": 29,
   "metadata": {},
   "outputs": [],
   "source": [
    "util = imp.reload(util)"
   ]
  },
  {
   "cell_type": "code",
   "execution_count": 38,
   "metadata": {},
   "outputs": [
    {
     "name": "stdout",
     "output_type": "stream",
     "text": [
      "[(3.5226846100657188, 4.0), (4.002202633311479, 4.0), (3.6670146626794855, 2.0), (4.193538725097316, 3.0), (2.141404436289637, 1.0)]\n",
      "[(4.501392303233024, 4.0), (3.0771562108111095, 2.0), (4.08150303279746, 2.0), (3.7367534676111873, 3.0), (3.6711764251274293, 4.0)]\n",
      "[(4.365043829341479, 4.0), (3.098901866183153, 4.0), (3.777481714255993, 4.0), (3.189806025955311, 3.0), (2.220694634835228, 2.0)]\n"
     ]
    }
   ],
   "source": [
    "print(list(zip(ytr[:5], y_train[:5])))\n",
    "print(list(zip(yde[:5], y_dev[:5])))\n",
    "print(list(zip(yte[:5], y_test[:5])))"
   ]
  },
  {
   "cell_type": "code",
   "execution_count": null,
   "metadata": {},
   "outputs": [],
   "source": []
  }
 ],
 "metadata": {
  "kernelspec": {
   "display_name": "Python 3",
   "language": "python",
   "name": "python3"
  },
  "language_info": {
   "codemirror_mode": {
    "name": "ipython",
    "version": 3
   },
   "file_extension": ".py",
   "mimetype": "text/x-python",
   "name": "python",
   "nbconvert_exporter": "python",
   "pygments_lexer": "ipython3",
   "version": "3.6.4"
  }
 },
 "nbformat": 4,
 "nbformat_minor": 2
}
